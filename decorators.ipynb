{
 "cells": [
  {
   "cell_type": "markdown",
   "metadata": {},
   "source": [
    "# Decorators\n"
   ]
  },
  {
   "cell_type": "markdown",
   "metadata": {},
   "source": [
    "In Python, decorators are functions that modify the behavior of other functions or methods. They allow you to wrap another function, adding functionality before or after the wrapped function executes. Decorators are commonly used for tasks such as logging, authentication, and memoization. They are denoted by the '@' symbol followed by the decorator function name, placed above the function to be decorated.\n"
   ]
  },
  {
   "cell_type": "code",
   "execution_count": null,
   "metadata": {},
   "outputs": [],
   "source": []
  }
 ],
 "metadata": {
  "language_info": {
   "name": "python"
  }
 },
 "nbformat": 4,
 "nbformat_minor": 2
}
